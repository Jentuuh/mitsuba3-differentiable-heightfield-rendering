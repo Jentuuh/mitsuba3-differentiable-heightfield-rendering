{
 "cells": [
  {
   "cell_type": "code",
   "execution_count": null,
   "id": "854c3b99",
   "metadata": {},
   "outputs": [],
   "source": [
    "import matplotlib.pyplot as plt\n",
    "import os \n",
    "import drjit as dr\n",
    "import mitsuba as mi\n",
    "import random\n",
    "import numpy as np\n",
    "\n",
    "mi.set_variant('cuda_ad_rgb')"
   ]
  },
  {
   "cell_type": "code",
   "execution_count": null,
   "id": "ca7da7bb",
   "metadata": {},
   "outputs": [],
   "source": [
    "sensor_count = 1\n",
    "sensor = {\n",
    "    'type': 'batch',\n",
    "    'film': {\n",
    "        'type': 'hdrfilm',\n",
    "        'width': 256 * sensor_count, 'height': 256,\n",
    "        'filter': {'type': 'gaussian'},\n",
    "        'sample_border': True\n",
    "    }\n",
    "}"
   ]
  }
 ],
 "metadata": {
  "kernelspec": {
   "display_name": "Python 3 (ipykernel)",
   "language": "python",
   "name": "python3"
  },
  "language_info": {
   "codemirror_mode": {
    "name": "ipython",
    "version": 3
   },
   "file_extension": ".py",
   "mimetype": "text/x-python",
   "name": "python",
   "nbconvert_exporter": "python",
   "pygments_lexer": "ipython3",
   "version": "3.10.12"
  }
 },
 "nbformat": 4,
 "nbformat_minor": 5
}
