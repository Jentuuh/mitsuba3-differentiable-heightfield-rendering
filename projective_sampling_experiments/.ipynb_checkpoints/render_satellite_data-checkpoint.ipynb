{
 "cells": [
  {
   "cell_type": "code",
   "execution_count": 1,
   "id": "26133166",
   "metadata": {},
   "outputs": [],
   "source": [
    "import mitsuba as mi\n",
    "import drjit as dr\n",
    "import matplotlib.pyplot as plt\n",
    "mi.set_variant('cuda_ad_rgb')"
   ]
  },
  {
   "cell_type": "code",
   "execution_count": 2,
   "id": "4fdae685",
   "metadata": {},
   "outputs": [],
   "source": [
    "import numpy as np \n",
    "def generate_points_circle(r, amount, height):\n",
    "    return [mi.ScalarPoint3f(np.cos(2*np.pi/amount*x)*r, np.sin(2*np.pi/amount*x)*r, height) for x in range(0,amount + 1)]   "
   ]
  },
  {
   "cell_type": "code",
   "execution_count": 3,
   "id": "0cc47bd4",
   "metadata": {},
   "outputs": [],
   "source": [
    "from mitsuba import ScalarTransform4f as T\n",
    "def create_sensor_at_position(pos):\n",
    "    moving_sensor = {\n",
    "        'type': 'perspective',\n",
    "        'film': {\n",
    "            'type': 'hdrfilm',\n",
    "            'width': 3840, 'height': 2160,\n",
    "            'filter': {'type': 'gaussian'},\n",
    "            'sample_border': True\n",
    "        },\n",
    "        'fov': 45,\n",
    "        'to_world': T.look_at(target=[0, 0, 0], origin=pos, up=[0, 0, 1])\n",
    "    }\n",
    "    return moving_sensor"
   ]
  },
  {
   "cell_type": "code",
   "execution_count": 4,
   "id": "4037fa42",
   "metadata": {},
   "outputs": [],
   "source": [
    "def create_sphere_light_source(position, radius, intensity):\n",
    "    return {\n",
    "        'type': 'sphere',\n",
    "        'center': position,\n",
    "        'radius': radius,\n",
    "       'emitter': {\n",
    "            'type': 'area',\n",
    "            'radiance': {\n",
    "                'type': 'rgb',\n",
    "                'value': intensity,\n",
    "            }\n",
    "        }\n",
    "    }"
   ]
  },
  {
   "cell_type": "code",
   "execution_count": 5,
   "id": "ba331054",
   "metadata": {},
   "outputs": [],
   "source": [
    "\n",
    "scene_dict_ref = {\n",
    "    'type': 'scene',\n",
    "    'integrator': {\n",
    "        'type': 'path'\n",
    "    },\n",
    "#     'sensor': sensor,\n",
    "    'sphere_0': create_sphere_light_source([0, 0, 8.0], 0.2, 1250.0),\n",
    "    'heightfield': {\n",
    "        'type': 'heightfield',\n",
    "        'resolution_x': 500,\n",
    "        'resolution_y': 100,\n",
    "#         'filename': 'data/spain_normalized.exr',\n",
    "        'max_height': 0.15,\n",
    "        'bsdf': {\n",
    "            'type': 'diffuse',\n",
    "            'reflectance': {\n",
    "                'type': 'rgb',\n",
    "                'value': [0.5, 0.5, 0.5]\n",
    "            }\n",
    "        },\n",
    "        'to_world':T.translate((0.0,0,0.5)) \n",
    "    }\n",
    "}"
   ]
  },
  {
   "cell_type": "code",
   "execution_count": 6,
   "id": "7852bd97",
   "metadata": {},
   "outputs": [],
   "source": [
    "camera_points_circle = generate_points_circle(3, 2, 3)"
   ]
  },
  {
   "cell_type": "code",
   "execution_count": 7,
   "id": "731c4791",
   "metadata": {},
   "outputs": [],
   "source": [
    "# # Render reconstructed shape from generated viewpoints\n",
    "# for i in range(len(camera_points_circle)):\n",
    "#     sensor = create_sensor_at_position(camera_points_circle[i])\n",
    "#     scene_dict_ref['sensor'] = sensor\n",
    "#     scene_final = mi.load_dict(scene_dict_ref)\n",
    "#     final_img = mi.render(scene_final, spp=128)\n",
    "#     mi.util.write_bitmap(f\"output/espania/img{i}.png\", final_img)"
   ]
  },
  {
   "cell_type": "code",
   "execution_count": 8,
   "id": "782d1737",
   "metadata": {},
   "outputs": [
    {
     "data": {
      "text/plain": [
       "<matplotlib.image.AxesImage at 0x7f27243c2bc0>"
      ]
     },
     "execution_count": 8,
     "metadata": {},
     "output_type": "execute_result"
    },
    {
     "data": {
      "image/png": "[encoded data removed]",
      "text/plain": [
       "<Figure size 432x288 with 1 Axes>"
      ]
     },
     "metadata": {
      "needs_background": "light"
     },
     "output_type": "display_data"
    }
   ],
   "source": [
    "sensor = create_sensor_at_position(camera_points_circle[0])\n",
    "scene_dict_ref['sensor'] = sensor\n",
    "scene = mi.load_dict(scene_dict_ref)\n",
    "img = mi.render(scene, spp=128)\n",
    "plt.imshow(img)"
   ]
  },
  {
   "cell_type": "code",
   "execution_count": null,
   "id": "18c874e4",
   "metadata": {},
   "outputs": [],
   "source": []
  }
 ],
 "metadata": {
  "kernelspec": {
   "display_name": "Python 3 (ipykernel)",
   "language": "python",
   "name": "python3"
  },
  "language_info": {
   "codemirror_mode": {
    "name": "ipython",
    "version": 3
   },
   "file_extension": ".py",
   "mimetype": "text/x-python",
   "name": "python",
   "nbconvert_exporter": "python",
   "pygments_lexer": "ipython3",
   "version": "3.10.12"
  }
 },
 "nbformat": 4,
 "nbformat_minor": 5
}
