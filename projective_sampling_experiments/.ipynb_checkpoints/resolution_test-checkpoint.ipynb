{
 "cells": [
  {
   "cell_type": "code",
   "execution_count": 1,
   "id": "02e29e92",
   "metadata": {},
   "outputs": [],
   "source": [
    "import mitsuba as mi \n",
    "import drjit as dr"
   ]
  },
  {
   "cell_type": "code",
   "execution_count": null,
   "id": "eef82a88",
   "metadata": {},
   "outputs": [],
   "source": [
    "from mitsuba import ScalarTransform4f as T\n",
    "\n",
    "sensor_count = 1\n",
    "sensor = {\n",
    "    'type': 'batch',\n",
    "    'film': {\n",
    "        'type': 'hdrfilm',\n",
    "        'width': 256 * sensor_count, 'height': 256,\n",
    "        'filter': {'type': 'gaussian'},\n",
    "        'sample_border': True\n",
    "    },\n",
    "    'sensor_1' : {\n",
    "        'type': 'perspective',\n",
    "        'fov': 45,\n",
    "        'to_world': T.look_at(target=[0, 0, 0], origin=[0, -7 , 0.2], up=[0, 0, 1])\n",
    "    }\n",
    "}"
   ]
  },
  {
   "cell_type": "code",
   "execution_count": null,
   "id": "9a2f4987",
   "metadata": {},
   "outputs": [],
   "source": [
    "def create_sphere_light_source(position, radius, intensity):\n",
    "    return {\n",
    "        'type': 'sphere',\n",
    "        'center': position,\n",
    "        'radius': radius,\n",
    "       'emitter': {\n",
    "            'type': 'area',\n",
    "            'radiance': {\n",
    "                'type': 'rgb',\n",
    "                'value': intensity,\n",
    "            }\n",
    "        }\n",
    "    }"
   ]
  },
  {
   "cell_type": "code",
   "execution_count": null,
   "id": "2b9f5b6e",
   "metadata": {},
   "outputs": [],
   "source": [
    "scene_dict_ref = {\n",
    "    'type': 'scene',\n",
    "    'integrator': {\n",
    "        'type': 'path',\n",
    "    },\n",
    "    'sensor': sensor,\n",
    "    'sphere_0': create_sphere_light_source([-6.0, -9, 6.0], 0.2, 150.0),\n",
    "\n",
    "    'heightfield': {\n",
    "        'type': 'heightfield',\n",
    "        'filename': 'data/depth.bmp',\n",
    "        'max_height': 1.0,\n",
    "        'bsdf': {\n",
    "            'type': 'diffuse',\n",
    "            'reflectance': {\n",
    "                'type': 'rgb',\n",
    "                'value': [0.5, 0.0, 0.0]\n",
    "            }\n",
    "        },\n",
    "        'to_world':T.translate((0,0,-0.5)) \n",
    "    },\n",
    "}"
   ]
  }
 ],
 "metadata": {
  "kernelspec": {
   "display_name": "Python 3 (ipykernel)",
   "language": "python",
   "name": "python3"
  },
  "language_info": {
   "codemirror_mode": {
    "name": "ipython",
    "version": 3
   },
   "file_extension": ".py",
   "mimetype": "text/x-python",
   "name": "python",
   "nbconvert_exporter": "python",
   "pygments_lexer": "ipython3",
   "version": "3.10.12"
  }
 },
 "nbformat": 4,
 "nbformat_minor": 5
}
