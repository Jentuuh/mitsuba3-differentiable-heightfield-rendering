{
 "cells": [
  {
   "cell_type": "code",
   "execution_count": 21,
   "id": "84dabad2",
   "metadata": {},
   "outputs": [],
   "source": [
    "import matplotlib.pyplot as plt\n",
    "import os \n",
    "import drjit as dr\n",
    "import mitsuba as mi\n",
    "import random\n",
    "import numpy as np\n",
    "\n",
    "mi.set_variant('cuda_ad_rgb')"
   ]
  },
  {
   "cell_type": "code",
   "execution_count": 22,
   "id": "b9fd97e6",
   "metadata": {},
   "outputs": [],
   "source": [
    "sensor_count = 1\n",
    "sensor = {\n",
    "    'type': 'batch',\n",
    "    'film': {\n",
    "        'type': 'hdrfilm',\n",
    "        'width': 256 * sensor_count, 'height': 256,\n",
    "        'filter': {'type': 'gaussian'},\n",
    "        'sample_border': True\n",
    "    }\n",
    "}"
   ]
  },
  {
   "cell_type": "code",
   "execution_count": 23,
   "id": "dec4259f",
   "metadata": {},
   "outputs": [],
   "source": [
    "import numpy as np \n",
    "def generate_points_circle(r, amount, height):\n",
    "    return [mi.ScalarPoint3f(np.cos(2*np.pi/amount*x)*r, np.sin(2*np.pi/amount*x)*r, height) for x in range(0,amount + 1)]   "
   ]
  },
  {
   "cell_type": "code",
   "execution_count": 24,
   "id": "c8e3d6c1",
   "metadata": {},
   "outputs": [],
   "source": [
    "# Generate random viewpoints in upper hemispher\n",
    "def random_upper_hemisphere(u, v, r):\n",
    "    theta = u * (dr.pi / 4) + (dr.pi/4)\n",
    "    phi = (v * dr.pi * 2) - dr.pi\n",
    "\n",
    "    x = r * dr.sin(theta) * dr.cos(phi)\n",
    "    y = r * dr.sin(theta) * dr.sin(phi)\n",
    "    z = r * dr.cos(theta)\n",
    "    return x, y, z"
   ]
  },
  {
   "cell_type": "code",
   "execution_count": 25,
   "id": "e2cdb491",
   "metadata": {},
   "outputs": [],
   "source": [
    "from mitsuba import ScalarTransform4f as T\n",
    "\n",
    "def generate_sensors_circle(points, batch_sensor, sensor_count):\n",
    "   \n",
    "    for i in range(sensor_count):\n",
    "        mi.UInt()\n",
    "        batch_sensor[f\"sensor_{i}\"] = {\n",
    "            'type': 'perspective',\n",
    "            'fov': 45,\n",
    "            'to_world': T.look_at(target=[0, 0, 0], origin=points[i], up=[0, 0, 1])\n",
    "        }"
   ]
  },
  {
   "cell_type": "code",
   "execution_count": 26,
   "id": "e912b6a7",
   "metadata": {},
   "outputs": [],
   "source": [
    "from mitsuba import ScalarTransform4f as T\n",
    "\n",
    "origins = []\n",
    "for i in range(sensor_count):\n",
    "    d = 4\n",
    "    u = random.uniform(0, 1)\n",
    "    v = random.uniform(0, 1)\n",
    "    x_v, y_v, z_v = random_upper_hemisphere(u, v, d)\n",
    "\n",
    "    origin = mi.ScalarPoint3f(x_v, y_v, z_v)\n",
    "    origins.append(origin)\n",
    "\n",
    "    sensor[f\"sensor_{i}\"] = {\n",
    "        'type': 'perspective',\n",
    "        'fov': 45,\n",
    "        'to_world': T.look_at(target=[0, 0, 0], origin=origin, up=[0, 0, 1])\n",
    "    }"
   ]
  },
  {
   "cell_type": "code",
   "execution_count": 27,
   "id": "fb32c9f1",
   "metadata": {},
   "outputs": [],
   "source": [
    "scene_dict_ref = {\n",
    "    'type': 'scene',\n",
    "    'integrator': {\n",
    "        'type': 'direct_reparam',\n",
    "    },\n",
    "    'sensor': sensor,\n",
    "    'sphere_2': {\n",
    "        'type': 'sphere',\n",
    "        'center': [0, 0, 5],\n",
    "        'radius': 1,\n",
    "       'emitter': {\n",
    "            'type': 'area',\n",
    "            'radiance': {\n",
    "                'type': 'rgb',\n",
    "                'value': 30.0,\n",
    "            }\n",
    "        }\n",
    "    },\n",
    "    'heightfield': {\n",
    "        'type': 'heightfield',\n",
    "        'filename': 'data/depth.bmp',\n",
    "        'max_height': 1.0,\n",
    "        'bsdf': {\n",
    "            'type': 'diffuse',\n",
    "            'reflectance': {\n",
    "                'type': 'rgb',\n",
    "                'value': [0.5, 0.5, 0.5]\n",
    "            }\n",
    "        }\n",
    "    }\n",
    "}\n",
    "\n",
    "scene_target = mi.load_dict(scene_dict_ref)"
   ]
  },
  {
   "cell_type": "code",
   "execution_count": 28,
   "id": "9a68609b",
   "metadata": {},
   "outputs": [],
   "source": [
    "scene_dict_opt = {\n",
    "    'type': 'scene',\n",
    "    'integrator': {\n",
    "        'type': 'direct_reparam',\n",
    "    },\n",
    "    'sensor': sensor,\n",
    "    'sphere_2': {\n",
    "        'type': 'sphere',\n",
    "        'center': [0, 0, 5],\n",
    "        'radius': 1,\n",
    "       'emitter': {\n",
    "            'type': 'area',\n",
    "            'radiance': {\n",
    "                'type': 'rgb',\n",
    "                'value': 30.0,\n",
    "            }\n",
    "        }\n",
    "    },\n",
    "    'heightfield': {\n",
    "        'type': 'heightfield',\n",
    "        'resolution': 200,\n",
    "        'max_height': 1.0,\n",
    "        'bsdf': {\n",
    "            'type': 'diffuse',\n",
    "            'reflectance': {\n",
    "                'type': 'rgb',\n",
    "                'value': [0.5, 0.5, 0.5]\n",
    "            }\n",
    "        }\n",
    "    }\n",
    "}"
   ]
  },
  {
   "cell_type": "code",
   "execution_count": 29,
   "id": "219ef6e8",
   "metadata": {},
   "outputs": [],
   "source": [
    "def update(pi, params, key):\n",
    "    params[key] *= (1 + pi)    \n",
    "    params.update()"
   ]
  },
  {
   "cell_type": "code",
   "execution_count": 30,
   "id": "69f7231e",
   "metadata": {},
   "outputs": [],
   "source": [
    "def render_fd_gradient_img(src_scene, params, iteration):\n",
    "    Δ = 5e-4\n",
    "    fd_integrator = mi.load_dict({\"type\": \"direct\"})\n",
    "    fd_spp = 1024\n",
    "    fd_repeat = 128\n",
    "    img1 = dr.zeros(mi.TensorXf, (256, 256, 3))\n",
    "    img2 = dr.zeros(mi.TensorXf, (256, 256, 3))\n",
    "    for it in range(fd_repeat):\n",
    "        update(-Δ, params, 'heightfield.heightfield')\n",
    "        img1 += mi.render(src_scene, sensor=0, integrator=fd_integrator, spp=fd_spp, seed=it)\n",
    "        update(+Δ, params, 'heightfield.heightfield')\n",
    "        img2 += mi.render(src_scene, sensor=0, integrator=fd_integrator, spp=fd_spp, seed=it)\n",
    "        print(f\"{it+1}/{fd_repeat}\", end='\\r')\n",
    "    fd_img = (img2 - img1) / (Δ*2) / fd_repeat\n",
    "    mi.util.write_bitmap(f\"output/gradients/fd/gradient_img_fd_{iteration}.exr\", fd_img)\n"
   ]
  },
  {
   "cell_type": "code",
   "execution_count": 31,
   "id": "bfb773b9",
   "metadata": {},
   "outputs": [],
   "source": [
    "import gc\n",
    "def render_reparam_gradient_img(src_scene, params, iteration):\n",
    "    key = \"heightfield.heightfield\"\n",
    "    # params.keep([key])\n",
    "    init_state = type(params[key])(params[key])\n",
    "    reparam_integrator = mi.load_dict({\"type\": \"direct_reparam\"})\n",
    "\n",
    "    res = src_scene.sensors()[0].film().size()\n",
    "    fwd_img = dr.zeros(mi.TensorXf, (res[0], res[1], 3))\n",
    "    mine_repeat = 1\n",
    "    for it in range(mine_repeat):\n",
    "        π = mi.Float(0.0)\n",
    "        dr.enable_grad(π)\n",
    "        update(π, params, key)\n",
    "        dr.forward(π, dr.ADFlag.ClearEdges)\n",
    "\n",
    "        image = mi.render(src_scene, params=params, sensor=0, integrator=reparam_integrator, seed=it)\n",
    "        fwd_img += dr.forward_to(image)\n",
    "        del image\n",
    "        gc.collect()\n",
    "        print(f\"{it+1}/{mine_repeat}\", end='\\r')\n",
    "    fwd_img /= float(mine_repeat)\n",
    "    mi.util.write_bitmap(f\"output/gradients/reparam/gradient_img_reparam_{iteration}.exr\", fwd_img)\n"
   ]
  },
  {
   "cell_type": "code",
   "execution_count": 32,
   "id": "70afd885",
   "metadata": {},
   "outputs": [],
   "source": [
    "def plot_batch_output(out: mi.TensorXf):\n",
    "    fig, ax = plt.subplots(figsize=(5*sensor_count, 5))\n",
    "    ax.imshow(mi.util.convert_to_bitmap(out))\n",
    "    ax.axis('off')"
   ]
  },
  {
   "cell_type": "code",
   "execution_count": 33,
   "id": "cd12ec92",
   "metadata": {},
   "outputs": [
    {
     "data": {
      "image/png": "[encoded data removed]",
      "text/plain": [
       "<Figure size 500x500 with 1 Axes>"
      ]
     },
     "metadata": {},
     "output_type": "display_data"
    }
   ],
   "source": [
    "ref_img = mi.render(scene_target, spp=256)\n",
    "plot_batch_output(ref_img)"
   ]
  },
  {
   "cell_type": "code",
   "execution_count": 34,
   "id": "d0259c86",
   "metadata": {},
   "outputs": [],
   "source": [
    "mi.util.write_bitmap(\"output/gt/ref_img.png\", ref_img)"
   ]
  },
  {
   "cell_type": "code",
   "execution_count": 35,
   "id": "7309b943",
   "metadata": {},
   "outputs": [
    {
     "data": {
      "image/png": "[encoded data removed]",
      "text/plain": [
       "<Figure size 500x500 with 1 Axes>"
      ]
     },
     "metadata": {},
     "output_type": "display_data"
    }
   ],
   "source": [
    "scene_source = mi.load_dict(scene_dict_opt)\n",
    "\n",
    "init_img = mi.render(scene_source, spp=128)\n",
    "plot_batch_output(init_img)"
   ]
  },
  {
   "cell_type": "code",
   "execution_count": 36,
   "id": "2d895002",
   "metadata": {},
   "outputs": [],
   "source": [
    "params = mi.traverse(scene_source)\n",
    "res_x = params['heightfield.res_x']\n",
    "res_y = params['heightfield.res_y']\n"
   ]
  },
  {
   "cell_type": "code",
   "execution_count": 37,
   "id": "60968112",
   "metadata": {},
   "outputs": [],
   "source": [
    "def init_optimizer(lambda_, learning_rate = 0.1):\n",
    "    ls = mi.ad.LargeSteps(params['heightfield.heightfield'], lambda_)\n",
    "    opt = mi.ad.Adam(lr=learning_rate, uniform=True)\n",
    "    opt['u'] = ls.to_differential(dr.clamp(params['heightfield.heightfield'], 0.0, 1.0), True)\n",
    "    return ls, opt"
   ]
  },
  {
   "cell_type": "code",
   "execution_count": 38,
   "id": "d00c3d63",
   "metadata": {},
   "outputs": [],
   "source": [
    "iterations = 1000\n",
    "# upsampling_steps = dr.sqr(dr.linspace(mi.Float, 0, 1, 2+1, endpoint=False).numpy()[1:])\n",
    "# upsampling_steps = (iterations * upsampling_steps).astype(int)\n",
    "upsampling_steps = [50, 100, 200, 300]"
   ]
  },
  {
   "cell_type": "code",
   "execution_count": 39,
   "id": "ac9069e7",
   "metadata": {},
   "outputs": [],
   "source": [
    "lambda_ = 30\n",
    "ls, opt = init_optimizer(lambda_, 0.5)"
   ]
  },
  {
   "cell_type": "code",
   "execution_count": 40,
   "id": "4e5665d0",
   "metadata": {
    "scrolled": true
   },
   "outputs": [
    {
     "name": "stdout",
     "output_type": "stream",
     "text": [
      "Iteration 743: Loss = 0.001728\r"
     ]
    },
    {
     "ename": "",
     "evalue": "",
     "output_type": "error",
     "traceback": [
      "\u001b[1;31mCanceled future for execute_request message before replies were done"
     ]
    },
    {
     "ename": "",
     "evalue": "",
     "output_type": "error",
     "traceback": [
      "\u001b[1;31mThe Kernel crashed while executing code in the the current cell or a previous cell. Please review the code in the cell(s) to identify a possible cause of the failure. Click <a href='https://aka.ms/vscodeJupyterKernelCrash'>here</a> for more info. View Jupyter <a href='command:jupyter.viewOutput'>log</a> for further details."
     ]
    }
   ],
   "source": [
    "for it in range(iterations):\n",
    "    loss = mi.Float(0.0)\n",
    "    \n",
    "    if it in upsampling_steps:\n",
    "        # params['heightfield.heightfield'] = dr.upsample(params['heightfield.heightfield'], scale_factor=(2, 2, 1))\n",
    "        # params.update()\n",
    "        # res_x = params['heightfield.res_x']\n",
    "        # res_y = params['heightfield.res_y']\n",
    "        lambda_ -= 5\n",
    "        ls, opt = init_optimizer(lambda_, 0.6 * opt.lr['u'])\n",
    "        render_fd_gradient_img(scene_source, params, it)\n",
    "        render_reparam_gradient_img(scene_source, params, it)\n",
    "\n",
    "    # Retrieve the vertex positions frimageom the latent variable\n",
    "    t = dr.unravel(mi.Point3f, ls.from_differential(opt['u']))\n",
    "    params['heightfield.heightfield'] = mi.TensorXf(t.z, (res_x,res_y,1))\n",
    "    params.update()\n",
    "\n",
    "    img = mi.render(scene_source, params, seed=it, spp=32)\n",
    "    mi.util.write_bitmap(f\"output/iteration_{it}.png\", img)\n",
    "    \n",
    "    # L1 Loss\n",
    "    loss = dr.mean(dr.abs(img - ref_img))\n",
    "    dr.backward(loss)\n",
    "    opt.step()\n",
    "\n",
    "    print(f\"Iteration {1+it:03d}: Loss = {loss[0]:6f}\", end='\\r')"
   ]
  },
  {
   "cell_type": "code",
   "execution_count": 20,
   "id": "7f1984df",
   "metadata": {},
   "outputs": [
    {
     "data": {
      "text/plain": [
       "[(Heightfield[\n",
       "    to_world = [[1, 0, 0, 0],\n",
       "                [0, 1, 0, 0],\n",
       "                [0, 0, 1, 0],\n",
       "                [0, 0, 0, 1]],\n",
       "    max height = 1,\n",
       "    surface_area = [0],\n",
       "    bsdf = SmoothDiffuse[\n",
       "      reflectance = SRGBReflectanceSpectrum[\n",
       "        value = [[0.5, 0.5, 0.5]]\n",
       "      ]\n",
       "    ]\n",
       "  ],\n",
       "  {'heightfield'}),\n",
       " (Scene[\n",
       "    children = [\n",
       "      Heightfield[\n",
       "        to_world = [[1, 0, 0, 0],\n",
       "                    [0, 1, 0, 0],\n",
       "                    [0, 0, 1, 0],\n",
       "                    [0, 0, 0, 1]],\n",
       "        max height = 1,\n",
       "        surface_area = [0],\n",
       "        bsdf = SmoothDiffuse[\n",
       "          reflectance = SRGBReflectanceSpectrum[\n",
       "            value = [[0.5, 0.5, 0.5]]\n",
       "          ]\n",
       "        ]\n",
       "      ],\n",
       "      DirectReparamIntegrator[max_depth = 6, rr_depth = 5],\n",
       "      BatchSensor[0x7f302c012330],\n",
       "      Sphere[\n",
       "        to_world = [[1, 0, 0, 0],\n",
       "                    [0, 1, 0, 0],\n",
       "                    [0, 0, 1, 5],\n",
       "                    [0, 0, 0, 1]],\n",
       "        center = [0, 0, 5],\n",
       "        radius = 1,\n",
       "        surface_area = [12.5664],\n",
       "        bsdf = SmoothDiffuse[\n",
       "          reflectance = UniformSpectrum[value=[0]]\n",
       "        ],\n",
       "        emitter = AreaLight[\n",
       "          radiance = SRGBReflectanceSpectrum[\n",
       "            value = [[30, 30, 30]]\n",
       "          ],\n",
       "          surface_area = [12.5664],\n",
       "          <no medium attached!>\n",
       "        ]\n",
       "      ]\n",
       "    ]\n",
       "  ],\n",
       "  {'heightfield'})]"
      ]
     },
     "execution_count": 20,
     "metadata": {},
     "output_type": "execute_result"
    }
   ],
   "source": [
    "# Update the mesh after the last iteration's gradient step\n",
    "t = dr.unravel(mi.Point3f, ls.from_differential(opt['u']))\n",
    "params['heightfield.heightfield'] = mi.TensorXf(t.z, (res_x,res_y,1))\n",
    "params.update()"
   ]
  },
  {
   "cell_type": "code",
   "execution_count": 21,
   "id": "c146e35d",
   "metadata": {},
   "outputs": [],
   "source": [
    "def create_sensor_at_position(pos):\n",
    "    moving_sensor = {\n",
    "        'type': 'perspective',\n",
    "        'fov': 45,\n",
    "        'to_world': T.look_at(target=[0, 0, 0], origin=pos, up=[0, 0, 1])\n",
    "    }\n",
    "    return moving_sensor"
   ]
  },
  {
   "cell_type": "code",
   "execution_count": 22,
   "id": "7f9f3512",
   "metadata": {},
   "outputs": [],
   "source": [
    "# Extract final heightfield data\n",
    "final_heightfield_res = (params['heightfield.res_x'], params['heightfield.res_y'])\n",
    "final_heightfield = params['heightfield.heightfield']\n",
    "final_img_res = 256"
   ]
  },
  {
   "cell_type": "code",
   "execution_count": 23,
   "id": "9ffbcdcf",
   "metadata": {},
   "outputs": [],
   "source": [
    "# Generate camera positions for final renders\n",
    "sensor_count = 200\n",
    "camera_points_circle = generate_points_circle(4, sensor_count, 0.5)"
   ]
  },
  {
   "cell_type": "code",
   "execution_count": 24,
   "id": "d1e2628c",
   "metadata": {},
   "outputs": [],
   "source": [
    "scene_dict_final = {\n",
    "    'type': 'scene',\n",
    "    'integrator': {\n",
    "        'type': 'direct_reparam',\n",
    "    },\n",
    "    'sphere_2': {\n",
    "        'type': 'sphere',\n",
    "        'center': [0, 0, 5],\n",
    "        'radius': 1,\n",
    "       'emitter': {\n",
    "            'type': 'area',\n",
    "            'radiance': {\n",
    "                'type': 'rgb',\n",
    "                'value': 30.0,\n",
    "            }\n",
    "        }\n",
    "    },\n",
    "    'heightfield': {\n",
    "        'type': 'heightfield',\n",
    "        'resolution': final_heightfield_res[0],\n",
    "        'max_height': 1.0,\n",
    "        'bsdf': {\n",
    "            'type': 'diffuse',\n",
    "            'reflectance': {\n",
    "                'type': 'rgb',\n",
    "                'value': [0.5, 0.5, 0.5]\n",
    "            }\n",
    "        }\n",
    "    }\n",
    "}"
   ]
  },
  {
   "cell_type": "code",
   "execution_count": 25,
   "id": "b0348adb",
   "metadata": {},
   "outputs": [],
   "source": [
    "# Render reconstructed shape from generated viewpoints\n",
    "for i in range(len(camera_points_circle)):\n",
    "    sensor = create_sensor_at_position(camera_points_circle[i])\n",
    "    scene_dict_final['sensor'] = sensor\n",
    "    scene_final = mi.load_dict(scene_dict_final)\n",
    "    scene_final_params = mi.traverse(scene_final)\n",
    "    scene_final_params['heightfield.heightfield'] = final_heightfield\n",
    "    scene_final_params.update()\n",
    "\n",
    "    final_img = mi.render(scene_final, spp=512)\n",
    "    mi.util.write_bitmap(f\"output/final/circle_img{i}.png\", final_img)\n"
   ]
  },
  {
   "cell_type": "code",
   "execution_count": 28,
   "id": "c25c0f96",
   "metadata": {},
   "outputs": [],
   "source": [
    "ref_params = mi.traverse(scene_target)\n",
    "ref_heightfield = ref_params['heightfield.heightfield']\n",
    "# Render reconstructed shape from generated viewpoints\n",
    "for i in range(len(camera_points_circle)):\n",
    "    sensor = create_sensor_at_position(camera_points_circle[i])\n",
    "    scene_dict_final['sensor'] = sensor\n",
    "    scene_final = mi.load_dict(scene_dict_final)\n",
    "    scene_final_params = mi.traverse(scene_final)\n",
    "    scene_final_params['heightfield.heightfield'] = ref_heightfield\n",
    "    scene_final_params.update()\n",
    "\n",
    "    final_img = mi.render(scene_final, spp=512)\n",
    "    mi.util.write_bitmap(f\"output/reference/circle_img{i}.png\", final_img)"
   ]
  },
  {
   "cell_type": "code",
   "execution_count": null,
   "id": "4ed92026",
   "metadata": {},
   "outputs": [],
   "source": []
  }
 ],
 "metadata": {
  "kernelspec": {
   "display_name": "Python 3 (ipykernel)",
   "language": "python",
   "name": "python3"
  },
  "language_info": {
   "codemirror_mode": {
    "name": "ipython",
    "version": 3
   },
   "file_extension": ".py",
   "mimetype": "text/x-python",
   "name": "python",
   "nbconvert_exporter": "python",
   "pygments_lexer": "ipython3",
   "version": "3.10.12"
  },
  "vscode": {
   "interpreter": {
    "hash": "3f7e436cf0b6db1f80f9bb92208594f863d9868ccf8a146d1c10944ad75f849f"
   }
  }
 },
 "nbformat": 4,
 "nbformat_minor": 5
}
