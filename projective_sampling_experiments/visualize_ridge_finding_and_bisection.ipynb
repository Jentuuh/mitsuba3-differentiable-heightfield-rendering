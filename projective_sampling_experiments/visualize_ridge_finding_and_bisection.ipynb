{
 "cells": [
  {
   "cell_type": "code",
   "execution_count": 29,
   "id": "a27e9473",
   "metadata": {},
   "outputs": [],
   "source": [
    "import numpy as np \n",
    "import meshplot as mp\n",
    "import mitsuba as mi\n",
    "import drjit as dr"
   ]
  },
  {
   "cell_type": "code",
   "execution_count": 30,
   "id": "6d6d3ea5",
   "metadata": {},
   "outputs": [],
   "source": [
    "mi.set_variant(\"cuda_ad_rgb\")"
   ]
  },
  {
   "cell_type": "code",
   "execution_count": 31,
   "id": "22bc8bc3",
   "metadata": {},
   "outputs": [],
   "source": [
    "scene_description = {\n",
    "    'type': 'scene',\n",
    "    'heightfield': {\n",
    "        'type': 'heightfield',\n",
    "        'filename': 'data/depth.bmp',\n",
    "        'max_height': 1.0,\n",
    "        'bsdf': {\n",
    "            'type': 'diffuse',\n",
    "            'reflectance': {\n",
    "                'type': 'rgb',\n",
    "                'value': [0.5, 0.5, 0.5]\n",
    "            }\n",
    "        }\n",
    "    },\n",
    "    'sensor' :{\n",
    "        'type': 'perspective',\n",
    "        'to_world': mi.ScalarTransform4f.look_at(\n",
    "            #origin=[0, 0, 1], target=[0, 0, 0], up=[0, 1, 0]\n",
    "            origin=[0, -5, 1], target=[0, 0, 0], up=[0, 0, 1]\n",
    "            #origin=[0, 0, 1], target=[0, 0, 0], up=[0, 1, 0]\n",
    "        ),\n",
    "#         'near_clip': 10,\n",
    "#         'far_clip':2800,\n",
    "        'film': {\n",
    "            'type': 'hdrfilm',\n",
    "            'width': 500,\n",
    "            'height': 500,\n",
    "            'sample_border': True\n",
    "        },\n",
    "        'sampler': {\n",
    "            'type': 'independent',\n",
    "            'sample_count': 2048,\n",
    "        }\n",
    "    },\n",
    "    'integrator': {\n",
    "        'type': 'direct_reparam',\n",
    "        'reparam_rays': 128,\n",
    "        'reparam_antithetic': True,\n",
    "        'reparam_kappa': 10**6,\n",
    "    },\n",
    "    \n",
    "        \n",
    "       'sphere_2': {\n",
    "        'type': 'sphere',\n",
    "        'center': [0, -7, 1],\n",
    "        'radius': 1,\n",
    "       'emitter': {\n",
    "            'type': 'area',\n",
    "            'radiance': {\n",
    "                'type': 'rgb',\n",
    "                'value': 1.0,\n",
    "            }\n",
    "        }\n",
    "    }    \n",
    "  \n",
    "#     'emitter': {\n",
    "#         'type': 'constant',\n",
    "#     }\n",
    "}"
   ]
  },
  {
   "cell_type": "code",
   "execution_count": 32,
   "id": "99a7fc02",
   "metadata": {},
   "outputs": [],
   "source": [
    "scene = mi.load_dict(scene_description)\n",
    "params = mi.traverse(scene)"
   ]
  },
  {
   "cell_type": "code",
   "execution_count": 33,
   "id": "742bdf6e",
   "metadata": {},
   "outputs": [],
   "source": [
    "heightfield = {\n",
    "    'res_x': params['heightfield.res_x'],\n",
    "    'res_y': params['heightfield.res_y'],\n",
    "    'heightfield': params['heightfield.heightfield'],\n",
    "    'to_world': params['heightfield.to_world'],\n",
    "    'max_height': params['heightfield.max_height'],\n",
    "    'vertex_normals': params['heightfield.per_vertex_normals']\n",
    "}"
   ]
  },
  {
   "cell_type": "code",
   "execution_count": 34,
   "id": "42f536fc",
   "metadata": {},
   "outputs": [],
   "source": [
    "def query_normal(idx, heightfield):\n",
    "    return dr.gather(mi.Normal3f, heightfield['vertex_normals'], idx)"
   ]
  },
  {
   "cell_type": "code",
   "execution_count": 35,
   "id": "46d175ac",
   "metadata": {},
   "outputs": [],
   "source": [
    "\"\"\"\n",
    " Given 3 triangle vertices a, b and c in world-space, and point p_x, this function determines the barycentric\n",
    " UV coordinates (u,v,w) of point p_x, w.r.t (a,b,c)\n",
    "\"\"\"\n",
    "def compute_barycentric(a, b, c, p_x):\n",
    "    v0 = b - a \n",
    "    v1 = c - a\n",
    "    v2 = p_x - a\n",
    "\n",
    "    d00 = dr.dot(v0, v0)\n",
    "    d01 = dr.dot(v0, v1)\n",
    "    d11 = dr.dot(v1, v1)\n",
    "    d20 = dr.dot(v2, v0)\n",
    "    d21 = dr.dot(v2, v1)\n",
    "    denom = d00 * d11 - d01 * d01\n",
    "\n",
    "    v = (d11 * d20 - d01 * d21) / denom\n",
    "    w = (d00 * d21 - d01 * d20) / denom\n",
    "    u = 1.0 - v - w\n",
    "\n",
    "    return u,v,w"
   ]
  },
  {
   "cell_type": "code",
   "execution_count": 36,
   "id": "06c0cd32",
   "metadata": {},
   "outputs": [],
   "source": [
    "\"\"\"\n",
    "    Given the UV coordinates of a point and the UV-space vertices of the \n",
    "    tile for which we are checking, this function returns the UV-space vertices of the triangle in which the point\n",
    "    is located.\n",
    "   0-------3\n",
    "    | \\pos|\n",
    "    |  \\  |    Outcome mapping\n",
    "    |neg\\ |\n",
    "   1-------2\n",
    "\"\"\"\n",
    "def determine_containing_triangle(uv, tile_vertices, tile_vertices_world, tile_normals):\n",
    "    # We can determine this in 2D, only x and y matters \n",
    "    # Sign of determinant: positive: right, negative: left \n",
    "    side = dr.sign((tile_vertices[2][0] - tile_vertices[0][0]) * (uv[1] - tile_vertices[0][1]) - (tile_vertices[2][1] - tile_vertices[0][1]) * (uv[0] - tile_vertices[0][0]))\n",
    "    \n",
    "    # UV-space vertices\n",
    "    hit_tri_uv_0_0 = dr.select(side < 0, tile_vertices[0][0], tile_vertices[3][0])\n",
    "    hit_tri_uv_0_1 = dr.select(side < 0, tile_vertices[0][1], tile_vertices[3][1])\n",
    "\n",
    "    hit_tri_uv_1_0 = dr.select(side < 0, tile_vertices[1][0], tile_vertices[0][0])\n",
    "    hit_tri_uv_1_1 = dr.select(side < 0, tile_vertices[1][1], tile_vertices[0][1])\n",
    "    \n",
    "    hit_tri_uv_2 = tile_vertices[2]\n",
    "    \n",
    "    # World-space vertices\n",
    "    hit_tri_world_0_0 = dr.select(side < 0, tile_vertices_world[0][0], tile_vertices_world[3][0])\n",
    "    hit_tri_world_0_1 = dr.select(side < 0, tile_vertices_world[0][1], tile_vertices_world[3][1])\n",
    "    hit_tri_world_0_2 = dr.select(side < 0, tile_vertices_world[0][2], tile_vertices_world[3][2])\n",
    "\n",
    "    hit_tri_world_1_0 = dr.select(side < 0, tile_vertices_world[1][0], tile_vertices_world[0][0])\n",
    "    hit_tri_world_1_1 = dr.select(side < 0, tile_vertices_world[1][1], tile_vertices_world[0][1])\n",
    "    hit_tri_world_1_2 = dr.select(side < 0, tile_vertices_world[1][2], tile_vertices_world[0][2])\n",
    "    \n",
    "    hit_tri_world_2 = tile_vertices_world[2]\n",
    "    \n",
    "    # Per-vertex normals\n",
    "    hit_tri_normals_0_0 = dr.select(side < 0, tile_normals[0][0], tile_normals[3][0])\n",
    "    hit_tri_normals_0_1 = dr.select(side < 0, tile_normals[0][1], tile_normals[3][1])\n",
    "    hit_tri_normals_0_2 = dr.select(side < 0, tile_normals[0][2], tile_normals[3][2])\n",
    "\n",
    "    hit_tri_normals_1_0 = dr.select(side < 0, tile_normals[1][0], tile_normals[0][0])\n",
    "    hit_tri_normals_1_1 = dr.select(side < 0, tile_normals[1][1], tile_normals[0][1])\n",
    "    hit_tri_normals_1_2 = dr.select(side < 0, tile_normals[1][2], tile_normals[0][2])\n",
    "    \n",
    "    hit_tri_normals_2 = tile_normals[2]\n",
    "    \n",
    "    \n",
    "    return (mi.Vector2f(hit_tri_uv_0_0, hit_tri_uv_0_1), mi.Vector2f(hit_tri_uv_1_0, hit_tri_uv_1_1), mi.Vector2f(hit_tri_uv_2)), \\\n",
    "    (mi.Vector3f(hit_tri_world_0_0, hit_tri_world_0_1, hit_tri_world_0_2), mi.Vector3f(hit_tri_world_1_0, hit_tri_world_1_1, hit_tri_world_1_2), mi.Vector3f(hit_tri_world_2)), \\\n",
    "    (mi.Vector3f(hit_tri_normals_0_0, hit_tri_normals_0_1, hit_tri_normals_0_2), mi.Vector3f(hit_tri_normals_1_0, hit_tri_normals_1_1, hit_tri_normals_1_2), mi.Vector3f(hit_tri_normals_2))\n"
   ]
  },
  {
   "cell_type": "code",
   "execution_count": 37,
   "id": "635caf4c",
   "metadata": {},
   "outputs": [],
   "source": [
    "\"\"\"\n",
    " Given a uv point coordinate (e.g. global heightfield UV of an intersection point), this function returns the\n",
    " vertices of the heightfield tile in which the point is located in UV-space, the tile vertices in world\n",
    " space, as well the tile normals. \n",
    "\"\"\"\n",
    "def uv_to_tile(uv, res_x, res_y, heightfield):\n",
    "    cell_size = (2.0 / (res_x - 1), 2.0 / (res_y - 1))\n",
    "    cell_size_uv_space = (1.0 / (res_x - 1), 1.0 / (res_y - 1))\n",
    "    amount_rows = res_x - 1\n",
    "    amount_tiles_per_row = res_y - 1\n",
    "    \n",
    "    tile_x = mi.UInt32(dr.clamp(dr.floor(uv[0] / cell_size_uv_space[0]), 0, amount_tiles_per_row - 1))\n",
    "    tile_y = mi.UInt32(dr.clamp(dr.floor((1 - uv[1]) / cell_size_uv_space[1]), 0 , amount_rows - 1))\n",
    "    \n",
    "    lt_idx = tile_y * res_x + tile_x\n",
    "    rt_idx = tile_y * res_x + tile_x + 1\n",
    "    lb_idx = (tile_y + 1) * res_x + tile_x\n",
    "    rb_idx = (tile_y + 1) * res_x + tile_x + 1\n",
    "    \n",
    "    local_min_bounds = mi.Point2f(-1.0 + tile_x * cell_size[0], 1.0 - (tile_y + 1) * cell_size[1])\n",
    "    local_max_bounds = mi.Point2f(-1.0 + (tile_x + 1) * cell_size[0], 1.0 - tile_y * cell_size[1])\n",
    "    \n",
    "    local_min_bounds_uv_space = mi.Point2f(tile_x * cell_size_uv_space[0], 1.0 - (tile_y + 1) * cell_size_uv_space[1])\n",
    "    local_max_bounds_uv_space = mi.Point2f((tile_x + 1) * cell_size_uv_space[0], 1.0 - tile_y * cell_size_uv_space[1])\n",
    "    \n",
    "    v0 = (local_min_bounds_uv_space[0], local_max_bounds_uv_space[1])\n",
    "    v1 = (local_min_bounds_uv_space[0], local_min_bounds_uv_space[1])\n",
    "    v2 = (local_max_bounds_uv_space[0], local_min_bounds_uv_space[1])\n",
    "    v3 = (local_max_bounds_uv_space[0], local_max_bounds_uv_space[1])\n",
    "\n",
    "    v0_world = heightfield['to_world'].transform_affine(mi.Point3f(local_min_bounds[0], local_max_bounds[1], dr.gather(mi.Float, heightfield['heightfield'].array, lt_idx) * heightfield['max_height']))\n",
    "    v1_world = heightfield['to_world'].transform_affine(mi.Point3f(local_min_bounds[0], local_min_bounds[1], dr.gather(mi.Float, heightfield['heightfield'].array, lb_idx) * heightfield['max_height']))\n",
    "    v2_world = heightfield['to_world'].transform_affine(mi.Point3f(local_max_bounds[0], local_min_bounds[1], dr.gather(mi.Float, heightfield['heightfield'].array, rb_idx) * heightfield['max_height']))\n",
    "    v3_world = heightfield['to_world'].transform_affine(mi.Point3f(local_max_bounds[0], local_max_bounds[1], dr.gather(mi.Float, heightfield['heightfield'].array, rt_idx) * heightfield['max_height']))\n",
    "  \n",
    "    n0 = query_normal(lt_idx, heightfield)\n",
    "    n1 = query_normal(lb_idx, heightfield)\n",
    "    n2 = query_normal(rb_idx, heightfield)\n",
    "    n3 = query_normal(rt_idx, heightfield)\n",
    "\n",
    "    # print(f\"uv: {uv} tile_vs: {(v0, v1, v2, v3)}\")\n",
    "\n",
    "    #    - tile vertices (UV) -     ---- tile vertices (world) -----     -- tile normals --\n",
    "    return (v0, v1, v2, v3),    (v0_world, v1_world, v2_world, v3_world), (n0, n1, n2, n3)"
   ]
  },
  {
   "cell_type": "code",
   "execution_count": 38,
   "id": "1cc1056c",
   "metadata": {},
   "outputs": [],
   "source": [
    "def project_uv_on_heightfield(uv, heightfield):\n",
    "    tile_vertices, tile_vertices_world, tile_normals = uv_to_tile(uv, heightfield['res_x'], heightfield['res_y'], heightfield)\n",
    "    tri_vertices, tri_vertices_world, tri_normals = determine_containing_triangle(uv, tile_vertices, tile_vertices_world, tile_normals)\n",
    "    b0, b1, b2 = compute_barycentric(tri_vertices[0], tri_vertices[1], tri_vertices[2], uv)\n",
    "\n",
    "    p_x = b0 * tri_vertices_world[0] + b1 * tri_vertices_world[1] + b2 * tri_vertices_world[2]\n",
    "    n_x = b0 * tri_normals[0] + b1 * tri_normals[1] + b2 * tri_normals[2]\n",
    "    return p_x, n_x"
   ]
  },
  {
   "cell_type": "code",
   "execution_count": 39,
   "id": "0c75968e",
   "metadata": {},
   "outputs": [],
   "source": [
    "def normal_component_flipped_sign(n1, n2):\n",
    "    result = mi.Mask(False)\n",
    "    result |= ((dr.sign(n1[0]) != dr.sign(n2[0])) | (dr.sign(n1[1]) != dr.sign(n2[1])) | (dr.sign(n1[2]) != dr.sign(n2[2])))\n",
    "    return result "
   ]
  },
  {
   "cell_type": "code",
   "execution_count": 40,
   "id": "ff100366",
   "metadata": {},
   "outputs": [],
   "source": [
    "def compute_G(T0, d, t, heightfield):\n",
    "    UV_p = T0 + t * d\n",
    "    UV_p = dr.clamp(UV_p, mi.Point2f(0.0, 0.0), mi.Point2f(1.0, 1.0))\n",
    "    P, _ = project_uv_on_heightfield(UV_p, heightfield) \n",
    "    return P.z"
   ]
  },
  {
   "cell_type": "code",
   "execution_count": 41,
   "id": "a62415a2",
   "metadata": {},
   "outputs": [],
   "source": [
    "def compute_F(T0, d, t, view_O, heightfield):\n",
    "    UV0 = T0 + t * d\n",
    "    UV0 = dr.clamp(UV0, mi.Point2f(0.0, 0.0), mi.Point2f(1.0, 1.0))\n",
    "    P, N = project_uv_on_heightfield(UV0, heightfield) \n",
    "    V = dr.normalize(view_O - P)\n",
    "    F = dr.dot(N, V)\n",
    "    return F"
   ]
  },
  {
   "cell_type": "code",
   "execution_count": 42,
   "id": "872f7395",
   "metadata": {},
   "outputs": [],
   "source": [
    "def F_predicate(T0, d, t, view_O, heightfield):\n",
    "    val = mi.Mask(True)\n",
    "    normal_view_dot = compute_F(T0, d, t, view_O, heightfield)\n",
    "    val &= normal_view_dot >= 0\n",
    "    return val"
   ]
  },
  {
   "cell_type": "code",
   "execution_count": 43,
   "id": "20f6bb96",
   "metadata": {},
   "outputs": [],
   "source": [
    "def G_grad(func, T0, d, t, heightfield):\n",
    "    dr.enable_grad(t)\n",
    "    val = func(T0, d, t, heightfield)\n",
    "    dr.forward_from(t)\n",
    "    grad = dr.grad(val)\n",
    "    dr.disable_grad(t)\n",
    "    return grad"
   ]
  },
  {
   "cell_type": "code",
   "execution_count": 44,
   "id": "01fa9aa3",
   "metadata": {},
   "outputs": [],
   "source": [
    "def find_nearest_ridge(T0, d, heightfield, active, max_nr_steps = 5, step_size = 0.002):\n",
    "    active_ridge_finder = mi.Mask(active)\n",
    "    found_ridge = active & False\n",
    "    i = mi.UInt32(0)\n",
    "\n",
    "    gradient_prev = G_grad(compute_G, T0, d, i*step_size, heightfield)\n",
    "    loop = mi.Loop(\"ridge_finder\", lambda: (i,found_ridge, gradient_prev, active_ridge_finder))\n",
    "    while loop(active_ridge_finder):\n",
    "        uv_curr = T0 + (i * step_size * d)\n",
    "        gradient_curr = G_grad(compute_G, T0, d, i * step_size, heightfield)\n",
    "\n",
    "        found_ridge |= active_ridge_finder & (gradient_prev * gradient_curr < 0)\n",
    "        gradient_prev = gradient_curr\n",
    "        i += 1\n",
    "\n",
    "        active_ridge_finder &= (~found_ridge) & (i < max_nr_steps)\n",
    "\n",
    "    return (i-1) * step_size, found_ridge"
   ]
  },
  {
   "cell_type": "code",
   "execution_count": 45,
   "id": "308fb185",
   "metadata": {},
   "outputs": [],
   "source": [
    "# See mitsuba/core/math.h\n",
    "def bisection(a, b, max_iter, accuracy, pred, T0, d, view_O, heightfield):\n",
    "    active_bisection = mi.Mask(True)\n",
    "    midpoint = (a + b) / 2\n",
    "\n",
    "    i = mi.UInt32(0)\n",
    "    loop = mi.Loop(\"bisection\", lambda: (i, a, b, active_bisection, midpoint))\n",
    "    while loop(active_bisection):\n",
    "        predicate_val = pred(T0, d, midpoint, view_O, heightfield)\n",
    "        a = dr.select(active_bisection & predicate_val, midpoint, a)\n",
    "        b = dr.select(active_bisection & predicate_val, b, midpoint)\n",
    "        midpoint = (a + b) / 2\n",
    "\n",
    "        i += 1\n",
    "        active_bisection &= i < max_iter & (a < midpoint) & (midpoint < b)\n",
    "\n",
    "    found_F_value = compute_F(T0, d, a, view_O, heightfield)\n",
    "    root_found = dr.abs(found_F_value) < accuracy\n",
    "\n",
    "    return a, root_found"
   ]
  },
  {
   "cell_type": "code",
   "execution_count": 46,
   "id": "9960d765",
   "metadata": {},
   "outputs": [],
   "source": [
    "def get_colormap():\n",
    "    import matplotlib\n",
    "    cmap_base = matplotlib.colormaps['Spectral']\n",
    "    N = 10\n",
    "    t1 = 0.42\n",
    "    cmap_new = cmap_base(np.arange(0, t1+(t1-0)/N, (t1-0)/N))\n",
    "    cmap_new = np.concatenate((cmap_new, [[0.85, 0.85, 0.85, 1]]), axis=0)  # Gray\n",
    "    t2 = 0.79;  # t2 = 0.85;\n",
    "    cmap_new = np.concatenate((cmap_new, cmap_base(np.arange(t2, 1+(1-t2)/N, (1-t2)/N)) ), axis=0)  # Gray\n",
    "    cmap_colors = np.flipud(cmap_new)\n",
    "    return matplotlib.colors.LinearSegmentedColormap.from_list(\"custom_spectral\", cmap_colors)"
   ]
  },
  {
   "cell_type": "code",
   "execution_count": 47,
   "id": "dbd8fc86",
   "metadata": {},
   "outputs": [],
   "source": [
    "def visualize_found_roots(roots, vp=None):\n",
    "    # Surface\n",
    "    N_res = 900\n",
    "    x, y = np.meshgrid(np.linspace(0, 1, N_res), np.linspace(0, 1, N_res))\n",
    "    x = x.flatten()\n",
    "    y = y.flatten()\n",
    "    pts, normals = project_uv_on_heightfield(mi.Point2f(x,y), heightfield)\n",
    "    \n",
    "    # Strips: densely sampled points along x and y dimension in the unit square to form a grid\n",
    "    # We have `N_strip` strips along the x-axis, each strip has y-coord [1/(N_strip+1), 2/(N_strip+1), ..., N_strip/(N_strip+1)]\n",
    "    # We have `N_strip` strips along the y-axis, each strip has x-coord [1/(N_strip+1), 2/(N_strip+1), ..., N_strip/(N_strip+1)]\n",
    "    # Each strip has `N_res * dense` points\n",
    "    N_strip = 30\n",
    "    dense = 5\n",
    "    t = np.linspace(0, 1, N_res * dense)\n",
    "    M = N_strip * N_res * dense\n",
    "    x = np.zeros((2 * M, ))\n",
    "    y = np.zeros((2 * M, ))\n",
    "    x[:M] = np.tile(t, N_strip)\n",
    "    y[M:] = np.tile(t, N_strip)\n",
    "    y[:M] = np.repeat(np.linspace(1 / (N_strip + 1), N_strip / (N_strip + 1), N_strip), N_res * dense)\n",
    "    x[M:] = np.repeat(np.linspace(1 / (N_strip + 1), N_strip / (N_strip + 1), N_strip), N_res * dense)\n",
    "    pts_strip, normals_strip = project_uv_on_heightfield(mi.Point2f(x,y), heightfield)\n",
    "\n",
    "    v_box = np.array([[-1, -1, 0], [1, -1, 0], [1, 1, 0], [-1, 1, 0],\n",
    "                    [-1, -1, 1], [1, -1, 1], [1, 1, 1], [-1, 1, 1.]])\n",
    "    f_box = np.array([[0, 1], [1, 2], [2, 3], [3, 0], [4, 5], [5, 6], [6, 7], \n",
    "                    [7, 4], [0, 4], [1, 5], [2, 6], [7, 3]], dtype=int)\n",
    "\n",
    "    plt = mp.plot(v_box, f_box, shading={\"background\": \"#606060\"})\n",
    "    plt.add_points(pts.numpy(), shading={\"point_size\": 0.02, \"point_color\": '#808080'})\n",
    "    plt.add_points(pts_strip.numpy(), shading={\"point_size\": 0.018, \"point_color\": '#303060'})\n",
    "\n",
    "    # Plot roots\n",
    "    if roots is not None:\n",
    "        roots[2] += 0.015\n",
    "        plt.add_points(roots.numpy(), shading={\"point_size\": 0.15, \"point_color\": 'blue'})\n",
    "\n",
    "    if vp is not None:\n",
    "        # Compute normal\n",
    "        viewdir = dr.normalize(vp - pts)\n",
    "\n",
    "        if False:  # plot normal\n",
    "            normals_np = normals.numpy()\n",
    "            plt.add_lines(pts.numpy(), pts.numpy() + normals_np * 0.1, shading={\"line_color\": \"black\", \"line_width\": 0.1})\n",
    "\n",
    "        # Plot F function (boundary test)\n",
    "        normal_viewdir_dot = dr.dot(normals, viewdir).numpy()\n",
    "        normal_viewdir_dot = (normal_viewdir_dot + 1) / 2\n",
    "        pts_xy = pts.numpy().copy()\n",
    "        cmap = get_colormap()\n",
    "        plt.add_points(pts_xy, shading={\"point_size\": 0.04,}, c=cmap(normal_viewdir_dot)[:, :3])\n",
    "\n",
    "\n",
    "        # Plot viewpoint and viewing direction \n",
    "        plt.add_points(vp.numpy(), shading={\"point_size\": 0.2, \"point_color\": \"red\"},)\n",
    "        center = np.array([0.0, 0.0, 0.0])\n",
    "        to_center = center - vp\n",
    "        to_center /= np.linalg.norm(to_center)\n",
    "        v0 = vp + to_center * 0.0\n",
    "        v1 = vp + to_center * 0.25\n",
    "        plt.add_lines(v0.numpy(), v1.numpy(), shading={\"line_color\": \"black\", \"line_width\": 4})\n",
    "\n",
    "    return plt"
   ]
  },
  {
   "cell_type": "code",
   "execution_count": 71,
   "id": "a38b0bd0",
   "metadata": {},
   "outputs": [],
   "source": [
    "V0 = mi.Point3f(-2, -2, 0.5)\n",
    "sensor = mi.load_dict({\n",
    "    \"type\": \"perspective\",\n",
    "    \"to_world\": mi.ScalarTransform4f.look_at(\n",
    "            origin=V0.numpy(), target=[0, 0, 0], up=[0, 0, 1]),\n",
    "    'sampler': {\n",
    "            'type': 'independent',\n",
    "            'sample_count': 2048,\n",
    "        },\n",
    "        # 'fovAxis': \"smaller\",\n",
    "        'fov': 90.0,\n",
    "})"
   ]
  },
  {
   "cell_type": "code",
   "execution_count": 72,
   "id": "d40c070f",
   "metadata": {},
   "outputs": [],
   "source": [
    "sampler = sensor.sampler()\n",
    "sampler.seed(7, 100000)"
   ]
  },
  {
   "cell_type": "code",
   "execution_count": 73,
   "id": "04c0d360",
   "metadata": {},
   "outputs": [],
   "source": [
    "ray, _ = sensor.sample_ray(0, sampler.next_1d(), sampler.next_2d(), sampler.next_2d())\n",
    "its = scene.ray_intersect(ray)"
   ]
  },
  {
   "cell_type": "code",
   "execution_count": 74,
   "id": "065157b1",
   "metadata": {},
   "outputs": [],
   "source": [
    "idx = dr.compress(its.is_valid())\n",
    "its_valid = dr.gather(mi.SurfaceInteraction3f, its, idx)\n",
    "d_3d = its_valid.p - V0 \n",
    "d = dr.normalize(mi.Vector2f(d_3d.x, d_3d.y))\n",
    "\n",
    "# Find roots\n",
    "t_ridge, found_ridge = find_nearest_ridge(its_valid.uv, d, heightfield, mi.Mask(True), 10, 0.03)\n",
    "t_silhouette, root_found = bisection(mi.Float(0.0), mi.Float(t_ridge), 30, 1e-3, F_predicate, its_valid.uv, d, V0, heightfield)\n",
    "found_uv = dr.select(root_found, its_valid.uv + t_silhouette * d, mi.Point2f(0.0, 0.0))\n",
    "root_p, _ = project_uv_on_heightfield(found_uv, heightfield)\n"
   ]
  },
  {
   "cell_type": "code",
   "execution_count": 75,
   "id": "1d8463b5",
   "metadata": {},
   "outputs": [
    {
     "name": "stdout",
     "output_type": "stream",
     "text": [
      "Found 3305 roots, starting from 5440 points.\n"
     ]
    }
   ],
   "source": [
    "starting_p_count = dr.width(idx)\n",
    "r_found_count = dr.count(root_found)\n",
    "print(f\"Found {r_found_count} roots, starting from {starting_p_count} points.\")"
   ]
  },
  {
   "cell_type": "code",
   "execution_count": 76,
   "id": "891d3dc2",
   "metadata": {},
   "outputs": [
    {
     "data": {
      "application/vnd.jupyter.widget-view+json": {
       "model_id": "57bbba4fc16441829acff3c2f0157c15",
       "version_major": 2,
       "version_minor": 0
      },
      "text/plain": [
       "Renderer(camera=PerspectiveCamera(children=(DirectionalLight(color='white', intensity=0.6, position=(0.0, 0.0,…"
      ]
     },
     "metadata": {},
     "output_type": "display_data"
    },
    {
     "data": {
      "text/plain": [
       "7"
      ]
     },
     "execution_count": 76,
     "metadata": {},
     "output_type": "execute_result"
    }
   ],
   "source": [
    "plt = visualize_found_roots(root_p , V0)\n",
    "plt.add_points(its_valid.p.numpy(), shading={\"point_size\": 0.08})"
   ]
  },
  {
   "cell_type": "code",
   "execution_count": null,
   "id": "cd585709",
   "metadata": {},
   "outputs": [],
   "source": []
  }
 ],
 "metadata": {
  "kernelspec": {
   "display_name": "Python 3 (ipykernel)",
   "language": "python",
   "name": "python3"
  },
  "language_info": {
   "codemirror_mode": {
    "name": "ipython",
    "version": 3
   },
   "file_extension": ".py",
   "mimetype": "text/x-python",
   "name": "python",
   "nbconvert_exporter": "python",
   "pygments_lexer": "ipython3",
   "version": "3.10.12"
  },
  "vscode": {
   "interpreter": {
    "hash": "3f7e436cf0b6db1f80f9bb92208594f863d9868ccf8a146d1c10944ad75f849f"
   }
  }
 },
 "nbformat": 4,
 "nbformat_minor": 5
}
